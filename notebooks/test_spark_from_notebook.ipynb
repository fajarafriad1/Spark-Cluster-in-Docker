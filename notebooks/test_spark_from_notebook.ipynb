{
 "cells": [
  {
   "cell_type": "code",
   "execution_count": 1,
   "id": "5598111d-0162-4228-ba13-d626ce4d2c0f",
   "metadata": {},
   "outputs": [
    {
     "name": "stdout",
     "output_type": "stream",
     "text": [
      "+----+---+\n",
      "|Name|Age|\n",
      "+----+---+\n",
      "|John| 30|\n",
      "|Jane| 25|\n",
      "|Mike| 35|\n",
      "+----+---+\n",
      "\n"
     ]
    }
   ],
   "source": [
    "from pyspark.sql import SparkSession\n",
    "# Connect to the Spark cluster master node\n",
    "spark = SparkSession.builder \\\n",
    "    .master(\"spark://spark-master:7077\") \\\n",
    "    .appName(\"TestSparkFromJupyterSparkHistoryTerakhir\") \\\n",
    "    .config(\"spark.executor.memory\", \"1g\") \\\n",
    "    .config(\"spark.cores.max\", \"2\") \\\n",
    "    .config(\"spark.driver.memory\", \"1g\") \\\n",
    "    .config(\"spark.sql.shuffle.partitions\", \"4\") \\\n",
    "    .config(\"spark.eventLog.enabled\", \"true\") \\\n",
    "    .config(\"spark.eventLog.dir\", \"file:///opt/bitnami/spark/spark-events\") \\\n",
    "    .getOrCreate()\n",
    "\n",
    "# Test cluster connection by creating a DataFrame and showing it\n",
    "data = [(\"John\", 30), (\"Jane\", 25), (\"Mike\", 35)]\n",
    "columns = [\"Name\", \"Age\"]\n",
    "df = spark.createDataFrame(data, columns)\n",
    "\n",
    "df.show()\n",
    "\n",
    "spark.stop()"
   ]
  },
  {
   "cell_type": "code",
   "execution_count": 4,
   "id": "ebbd67b3-f61d-49d1-9b7d-fc4f768a256a",
   "metadata": {},
   "outputs": [],
   "source": [
    "spark.stop()"
   ]
  },
  {
   "cell_type": "code",
   "execution_count": 13,
   "id": "8b66a086-b32a-4979-b1ff-081e16c77385",
   "metadata": {},
   "outputs": [
    {
     "name": "stdout",
     "output_type": "stream",
     "text": [
      "+----+---+----------+\n",
      "|Name|Age|AgePlusTen|\n",
      "+----+---+----------+\n",
      "|John| 30|        40|\n",
      "|Jane| 25|        35|\n",
      "|Mike| 35|        45|\n",
      "+----+---+----------+\n",
      "\n",
      "Total rows: 3\n"
     ]
    }
   ],
   "source": [
    "# Perform a transformation and action (e.g., count)\n",
    "transformed_df = df.withColumn(\"AgePlusTen\", df[\"Age\"] + 10)\n",
    "transformed_df.show()\n",
    "\n",
    "# Perform an action like count\n",
    "row_count = transformed_df.count()\n",
    "print(f\"Total rows: {row_count}\")"
   ]
  },
  {
   "cell_type": "code",
   "execution_count": 9,
   "id": "288b3134-2b7a-40ac-a262-bd27f9aeccd8",
   "metadata": {},
   "outputs": [],
   "source": [
    "spark.stop()"
   ]
  }
 ],
 "metadata": {
  "kernelspec": {
   "display_name": "Python 3 (ipykernel)",
   "language": "python",
   "name": "python3"
  },
  "language_info": {
   "codemirror_mode": {
    "name": "ipython",
    "version": 3
   },
   "file_extension": ".py",
   "mimetype": "text/x-python",
   "name": "python",
   "nbconvert_exporter": "python",
   "pygments_lexer": "ipython3",
   "version": "3.11.6"
  }
 },
 "nbformat": 4,
 "nbformat_minor": 5
}
